{
 "cells": [
  {
   "cell_type": "code",
   "execution_count": null,
   "id": "a0b2df4c",
   "metadata": {},
   "outputs": [],
   "source": [
    "import pandas as pd\n",
    "import numpy as np\n",
    "\n",
    "import pandas as pd\n",
    "\n",
    "# --- 1. Rutas ---\n",
    "expr_path = \"data/raw/geo_expr_Quantile.tsv\"\n",
    "clin_path = \"data/raw/geo_clin_Quantile.tsv\"\n",
    "anot_path = \"data/raw/geo_expr_annot.tsv\"\n",
    "\n",
    "df_expr = pd.read_csv(expr_path, sep=\"\\t\") #EXPRESIÓN GÉNICA\n",
    "df_clin = pd.read_csv(clin_path, sep=\"\\t\") #DATA CLÍNICA\n",
    "df_anot = pd.read_csv(anot_path, sep=\"\\t\") #ANOTACIONES"
   ]
  },
  {
   "cell_type": "code",
   "execution_count": 2,
   "id": "c74d09ce",
   "metadata": {},
   "outputs": [
    {
     "name": "stdout",
     "output_type": "stream",
     "text": [
      "Cantidad de filas con 'biopsy': 2674\n"
     ]
    }
   ],
   "source": [
    "# Contar filas donde la columna contiene la palabra \"biopsy\"\n",
    "count_biopsy = df_clin[\"Series_sample_procurement\"].str.contains(\"biopsy\", case=False, na=False).sum()\n",
    "print(\"Cantidad de filas con 'biopsy':\", count_biopsy)"
   ]
  },
  {
   "cell_type": "code",
   "execution_count": null,
   "id": "134de335",
   "metadata": {},
   "outputs": [],
   "source": [
    "# Si además quieres ver esas filas\n",
    "df_biopsy = df_clin[df_clin[\"Series_sample_procurement\"].str.contains(\"biopsy\", case=False, na=False)]\n",
    "print(df_biopsy.shape)"
   ]
  },
  {
   "cell_type": "code",
   "execution_count": 17,
   "id": "2e172635",
   "metadata": {},
   "outputs": [
    {
     "name": "stdout",
     "output_type": "stream",
     "text": [
      "<bound method NDFrame.head of      Sample_geo_accession\n",
      "0               GSM615096\n",
      "1               GSM615097\n",
      "2               GSM615098\n",
      "3               GSM615099\n",
      "4               GSM615100\n",
      "...                   ...\n",
      "3632            GSM546433\n",
      "3633            GSM546434\n",
      "3634            GSM546435\n",
      "3635            GSM546436\n",
      "3636            GSM546437\n",
      "\n",
      "[2674 rows x 1 columns]>\n"
     ]
    }
   ],
   "source": [
    "# Recuperar solo las columnas deseadas\n",
    "df_biopsy_indices = df_biopsy[[\"Sample_geo_accession\"]]\n",
    "\n",
    "print(df_biopsy_indices.head)"
   ]
  },
  {
   "cell_type": "code",
   "execution_count": null,
   "id": "9da27968",
   "metadata": {},
   "outputs": [],
   "source": [
    "df_filter = pd.read_csv(\"data/raw/data_GSE205568_quantile_corrected_Biopsy.csv\") #EXPRESIÓN GÉNICA"
   ]
  },
  {
   "cell_type": "code",
   "execution_count": 21,
   "id": "0d6a6841",
   "metadata": {},
   "outputs": [
    {
     "name": "stdout",
     "output_type": "stream",
     "text": [
      "(3736, 9186)\n"
     ]
    }
   ],
   "source": [
    "print(df_filter.shape)"
   ]
  },
  {
   "cell_type": "code",
   "execution_count": 16,
   "id": "6703bb0f",
   "metadata": {},
   "outputs": [
    {
     "name": "stdout",
     "output_type": "stream",
     "text": [
      "(0, 9186)\n",
      "Empty DataFrame\n",
      "Columns: [Sample_geo_accession, ncbi_400451, ncbi_57099, ncbi_23339, ncbi_11261, ncbi_57082, ncbi_23300, ncbi_55654, ncbi_4324, ncbi_9100, ncbi_3281, ncbi_1014, ncbi_2903, ncbi_8131, ncbi_23594, ncbi_6923, ncbi_4917, ncbi_23174, ncbi_80011, ncbi_64779, ncbi_54957, ncbi_79001, ncbi_23265, ncbi_6904, ncbi_25834, ncbi_5176, ncbi_23293, ncbi_9931, ncbi_5598, ncbi_5376, ncbi_8631, ncbi_64750, ncbi_57104, ncbi_7343, ncbi_6777, ncbi_6774, ncbi_80179, ncbi_3213, ncbi_23512, ncbi_28964, ncbi_23746, ncbi_8687, ncbi_11322, ncbi_8387, ncbi_9150, ncbi_54941, ncbi_6422, ncbi_80110, ncbi_55663, ncbi_65095, ncbi_28511, ncbi_79088, ncbi_81576, ncbi_79973, ncbi_11012, ncbi_587, ncbi_79643, ncbi_26291, ncbi_63934, ncbi_5794, ncbi_81, ncbi_10226, ncbi_29122, ncbi_84444, ncbi_2527, ncbi_6528, ncbi_3594, ncbi_85360, ncbi_3249, ncbi_7561, ncbi_8309, ncbi_9170, ncbi_115290, ncbi_4190, ncbi_678, ncbi_8685, ncbi_7852, ncbi_80219, ncbi_3037, ncbi_7277, ncbi_10109, ncbi_9448, ncbi_2956, ncbi_9801, ncbi_3973, ncbi_55024, ncbi_6332, ncbi_9486, ncbi_51141, ncbi_4436, ncbi_1493, ncbi_54978, ncbi_8884, ncbi_5147, ncbi_6711, ncbi_54812, ncbi_56731, ncbi_8839, ncbi_8785, ncbi_9751, ...]\n",
      "Index: []\n",
      "\n",
      "[0 rows x 9186 columns]\n"
     ]
    }
   ],
   "source": [
    "df_expr_filtered = df_filter[df_filter[\"Sample_geo_accession\"].isin(df_biopsy_indices)]\n",
    "\n",
    "print(df_expr_filtered.shape)\n",
    "print(df_expr_filtered.head())"
   ]
  },
  {
   "cell_type": "code",
   "execution_count": 20,
   "id": "57270815",
   "metadata": {},
   "outputs": [
    {
     "name": "stdout",
     "output_type": "stream",
     "text": [
      "(2674, 9185)\n",
      "                      ncbi_400451  ncbi_57099  ncbi_23339  ncbi_11261  \\\n",
      "Sample_geo_accession                                                    \n",
      "GSM615096                   0.855       0.583       0.732       0.149   \n",
      "GSM615097                   0.814       0.599       0.687       0.473   \n",
      "GSM615098                   0.226       0.820       0.711       0.663   \n",
      "GSM615099                   0.377       0.736       0.654       0.306   \n",
      "GSM615100                   0.609       0.732       0.683       0.562   \n",
      "\n",
      "                      ncbi_57082  ncbi_23300  ncbi_55654  ncbi_4324  \\\n",
      "Sample_geo_accession                                                  \n",
      "GSM615096                  0.842       0.562       0.610      0.436   \n",
      "GSM615097                  0.992       0.600       0.534      0.000   \n",
      "GSM615098                  0.547       0.591       0.116      0.502   \n",
      "GSM615099                  0.307       0.593       0.652      0.220   \n",
      "GSM615100                  0.659       0.653       0.648      0.328   \n",
      "\n",
      "                      ncbi_9100  ncbi_3281  ...  ncbi_163131  ncbi_1012  \\\n",
      "Sample_geo_accession                        ...                           \n",
      "GSM615096                 0.293      0.601  ...        0.532      0.452   \n",
      "GSM615097                 0.135      0.524  ...        0.862      0.732   \n",
      "GSM615098                 0.744      0.112  ...        0.820      0.507   \n",
      "GSM615099                 0.771      0.602  ...        0.852      0.870   \n",
      "GSM615100                 0.644      0.734  ...        0.484      0.942   \n",
      "\n",
      "                      ncbi_3576  ncbi_8467  ncbi_79801  ncbi_7062  ncbi_4697  \\\n",
      "Sample_geo_accession                                                           \n",
      "GSM615096                 0.256      0.855       0.413      0.826      0.360   \n",
      "GSM615097                 0.183      0.503       0.572      0.226      0.430   \n",
      "GSM615098                 0.213      0.931       0.656      0.231      0.094   \n",
      "GSM615099                 0.312      0.929       0.920      0.739      0.797   \n",
      "GSM615100                 0.270      0.817       0.631      0.752      0.513   \n",
      "\n",
      "                      ncbi_5796  ncbi_4670  Response  \n",
      "Sample_geo_accession                                  \n",
      "GSM615096                 0.508      0.340       0.0  \n",
      "GSM615097                 0.788      0.769       0.0  \n",
      "GSM615098                 0.826      0.394       0.0  \n",
      "GSM615099                 1.000      0.681       1.0  \n",
      "GSM615100                 0.514      0.668       0.0  \n",
      "\n",
      "[5 rows x 9185 columns]\n"
     ]
    },
    {
     "name": "stderr",
     "output_type": "stream",
     "text": [
      "C:\\Users\\Rodrigo\\AppData\\Local\\Temp\\ipykernel_14968\\3200676161.py:2: SettingWithCopyWarning: \n",
      "A value is trying to be set on a copy of a slice from a DataFrame.\n",
      "Try using .loc[row_indexer,col_indexer] = value instead\n",
      "\n",
      "See the caveats in the documentation: https://pandas.pydata.org/pandas-docs/stable/user_guide/indexing.html#returning-a-view-versus-a-copy\n",
      "  df_biopsy_indices[\"Sample_geo_accession\"] = df_biopsy_indices[\"Sample_geo_accession\"].astype(str).str.strip()\n"
     ]
    }
   ],
   "source": [
    "# 1. Aseguramos que sea string y quitamos espacios\n",
    "df_biopsy_indices[\"Sample_geo_accession\"] = df_biopsy_indices[\"Sample_geo_accession\"].astype(str).str.strip()\n",
    "df_filter[\"Sample_geo_accession\"] = df_filter[\"Sample_geo_accession\"].astype(str).str.strip()\n",
    "\n",
    "# 2. Pasamos esa columna al índice\n",
    "df_biopsy_idx = df_biopsy_indices.set_index(\"Sample_geo_accession\")\n",
    "df_expr_idx   = df_filter.set_index(\"Sample_geo_accession\")\n",
    "\n",
    "# 3. Filtramos solo los que coinciden en el índice\n",
    "df_expr_filtered = df_expr_idx.loc[df_expr_idx.index.intersection(df_biopsy_idx.index)]\n",
    "\n",
    "print(df_expr_filtered.shape)\n",
    "print(df_expr_filtered.head())"
   ]
  }
 ],
 "metadata": {
  "kernelspec": {
   "display_name": "Python 3",
   "language": "python",
   "name": "python3"
  },
  "language_info": {
   "codemirror_mode": {
    "name": "ipython",
    "version": 3
   },
   "file_extension": ".py",
   "mimetype": "text/x-python",
   "name": "python",
   "nbconvert_exporter": "python",
   "pygments_lexer": "ipython3",
   "version": "3.10.11"
  }
 },
 "nbformat": 4,
 "nbformat_minor": 5
}
