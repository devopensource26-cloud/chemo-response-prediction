{
  "nbformat": 4,
  "nbformat_minor": 0,
  "metadata": {
    "colab": {
      "provenance": []
    },
    "kernelspec": {
      "name": "python3",
      "display_name": "Python 3"
    },
    "language_info": {
      "name": "python"
    }
  },
  "cells": [
    {
      "cell_type": "code",
      "execution_count": null,
      "metadata": {
        "colab": {
          "base_uri": "https://localhost:8080/"
        },
        "id": "PZh8QgBpTG5i",
        "outputId": "ccd1737f-d58b-4229-bb38-07a5079fada8"
      },
      "outputs": [
        {
          "output_type": "stream",
          "name": "stdout",
          "text": [
            "(9184, 4)\n",
            "Index(['ID_REF', 'Ncbi_gene_id', 'Hugo_gene_symbol', 'Ensembl_gene_id'], dtype='object')\n",
            "        ID_REF  Ncbi_gene_id Hugo_gene_symbol  Ensembl_gene_id\n",
            "0  ncbi_400451        400451          FAM174B  ENSG00000185442\n",
            "   Ncbi_gene_id Hugo_gene_symbol\n",
            "0        400451          FAM174B\n",
            "1         57099             AVEN\n",
            "2         23339            VPS39\n",
            "3         11261             CHP1\n",
            "4         57082             KNL1\n"
          ]
        }
      ],
      "source": [
        "import pandas as pd\n",
        "\n",
        "# Lee el archivo .stv como si fuera TSV\n",
        "df = pd.read_csv(\"geo_expr_annot.tsv\", sep=\"\\t\")\n",
        "\n",
        "print(df.shape)\n",
        "print(df.columns)\n",
        "print(df.head(1))\n",
        "\n",
        "df_Gen_simbols = df[[\"Ncbi_gene_id\", \"Hugo_gene_symbol\"]]  # ✅ lista de columnas\n",
        "print(df_Gen_simbols.head())"
      ]
    },
    {
      "cell_type": "code",
      "source": [
        "df2 = pd.read_csv(\"data_GSE205568_quantile_corrected_Biopsy.csv\")\n",
        "print(df2.columns)"
      ],
      "metadata": {
        "colab": {
          "base_uri": "https://localhost:8080/"
        },
        "id": "iIrW6Pz_Voiq",
        "outputId": "5658e85f-9473-4cc5-db4f-858ac51b2039"
      },
      "execution_count": null,
      "outputs": [
        {
          "output_type": "stream",
          "name": "stdout",
          "text": [
            "Index(['Sample_geo_accession', 'ncbi_400451', 'ncbi_57099', 'ncbi_23339',\n",
            "       'ncbi_11261', 'ncbi_57082', 'ncbi_23300', 'ncbi_55654', 'ncbi_4324',\n",
            "       'ncbi_9100',\n",
            "       ...\n",
            "       'ncbi_163131', 'ncbi_1012', 'ncbi_3576', 'ncbi_8467', 'ncbi_79801',\n",
            "       'ncbi_7062', 'ncbi_4697', 'ncbi_5796', 'ncbi_4670', 'Response'],\n",
            "      dtype='object', length=9186)\n"
          ]
        }
      ]
    },
    {
      "cell_type": "code",
      "source": [
        "df2.columns = df2.columns.str.replace(\"ncbi_\", \"\", regex=False)\n",
        "\n",
        "print(df2.columns[:20])"
      ],
      "metadata": {
        "colab": {
          "base_uri": "https://localhost:8080/"
        },
        "id": "WFmZ-VHmXJuF",
        "outputId": "72dc497a-069f-4748-c74c-37f521d0b9b6"
      },
      "execution_count": null,
      "outputs": [
        {
          "output_type": "stream",
          "name": "stdout",
          "text": [
            "Index(['Sample_geo_accession', '400451', '57099', '23339', '11261', '57082',\n",
            "       '23300', '55654', '4324', '9100', '3281', '1014', '2903', '8131',\n",
            "       '23594', '6923', '4917', '23174', '80011', '64779'],\n",
            "      dtype='object')\n"
          ]
        }
      ]
    },
    {
      "cell_type": "code",
      "source": [
        "# Crear un diccionario {id: símbolo}\n",
        "map_dict = dict(zip(df_Gen_simbols[\"Ncbi_gene_id\"].astype(str), df_Gen_simbols[\"Hugo_gene_symbol\"]))\n",
        "\n",
        "# Reemplazar nombres de columnas usando el diccionario\n",
        "df_renamed = df2.rename(columns=map_dict)\n",
        "\n",
        "print(df_renamed.columns[:20])"
      ],
      "metadata": {
        "colab": {
          "base_uri": "https://localhost:8080/"
        },
        "id": "_4NqjX1EXpgM",
        "outputId": "bae9641a-b0f7-4c4d-b288-24b7fc76d54c"
      },
      "execution_count": null,
      "outputs": [
        {
          "output_type": "stream",
          "name": "stdout",
          "text": [
            "Index(['Sample_geo_accession', 'FAM174B', 'AVEN', 'VPS39', 'CHP1', 'KNL1',\n",
            "       'ATMIN', 'TMEM127', 'MMP15', 'USP10', 'HSBP1', 'CDH16', 'GRIN2A',\n",
            "       'NPRL3', 'ORC6', 'ELOB', 'NTN3', 'ZCCHC14', 'PSME3IP1', 'MTHFSD'],\n",
            "      dtype='object')\n"
          ]
        }
      ]
    },
    {
      "cell_type": "code",
      "source": [
        "# Poner la columna 'Sample_geo_accession' como índice\n",
        "df_indexed = df_renamed.set_index(\"Sample_geo_accession\")\n",
        "\n",
        "print(df_indexed.shape)       # debería dar (2551, 9185) porque quitas una columna y la vuelves índice\n",
        "print(df_indexed.head())"
      ],
      "metadata": {
        "colab": {
          "base_uri": "https://localhost:8080/"
        },
        "id": "86aKwDBJYnYT",
        "outputId": "fc031a68-69ba-4854-b581-c2cd7d18e94f"
      },
      "execution_count": null,
      "outputs": [
        {
          "output_type": "stream",
          "name": "stdout",
          "text": [
            "(2551, 9185)\n",
            "                      FAM174B   AVEN  VPS39   CHP1   KNL1  ATMIN  TMEM127  \\\n",
            "Sample_geo_accession                                                        \n",
            "GSM615096               0.855  0.583  0.732  0.149  0.842  0.562    0.610   \n",
            "GSM615097               0.814  0.599  0.687  0.473  0.992  0.600    0.534   \n",
            "GSM615098               0.226  0.820  0.711  0.663  0.547  0.591    0.116   \n",
            "GSM615099               0.377  0.736  0.654  0.306  0.307  0.593    0.652   \n",
            "GSM615100               0.609  0.732  0.683  0.562  0.659  0.653    0.648   \n",
            "\n",
            "                      MMP15  USP10  HSBP1  ...  ZNF780B  CDH13  CXCL8  \\\n",
            "Sample_geo_accession                       ...                          \n",
            "GSM615096             0.436  0.293  0.601  ...    0.532  0.452  0.256   \n",
            "GSM615097             0.000  0.135  0.524  ...    0.862  0.732  0.183   \n",
            "GSM615098             0.502  0.744  0.112  ...    0.820  0.507  0.213   \n",
            "GSM615099             0.220  0.771  0.602  ...    0.852  0.870  0.312   \n",
            "GSM615100             0.328  0.644  0.734  ...    0.484  0.942  0.270   \n",
            "\n",
            "                      SMARCA5  SHCBP1   TCHH  NDUFA4  PTPRK  HNRNPM  Response  \n",
            "Sample_geo_accession                                                           \n",
            "GSM615096               0.855   0.413  0.826   0.360  0.508   0.340       0.0  \n",
            "GSM615097               0.503   0.572  0.226   0.430  0.788   0.769       0.0  \n",
            "GSM615098               0.931   0.656  0.231   0.094  0.826   0.394       0.0  \n",
            "GSM615099               0.929   0.920  0.739   0.797  1.000   0.681       1.0  \n",
            "GSM615100               0.817   0.631  0.752   0.513  0.514   0.668       0.0  \n",
            "\n",
            "[5 rows x 9185 columns]\n"
          ]
        }
      ]
    },
    {
      "cell_type": "code",
      "source": [
        "print(df_indexed.shape)\n",
        "print(df_indexed.columns)"
      ],
      "metadata": {
        "colab": {
          "base_uri": "https://localhost:8080/"
        },
        "id": "lf_LtXHFX5E8",
        "outputId": "03893d00-49dd-4dfa-cb99-261a4870ff4d"
      },
      "execution_count": null,
      "outputs": [
        {
          "output_type": "stream",
          "name": "stdout",
          "text": [
            "(2551, 9185)\n",
            "Index(['FAM174B', 'AVEN', 'VPS39', 'CHP1', 'KNL1', 'ATMIN', 'TMEM127', 'MMP15',\n",
            "       'USP10', 'HSBP1',\n",
            "       ...\n",
            "       'ZNF780B', 'CDH13', 'CXCL8', 'SMARCA5', 'SHCBP1', 'TCHH', 'NDUFA4',\n",
            "       'PTPRK', 'HNRNPM', 'Response'],\n",
            "      dtype='object', length=9185)\n"
          ]
        }
      ]
    },
    {
      "cell_type": "code",
      "source": [
        "print(df_indexed.head)"
      ],
      "metadata": {
        "colab": {
          "base_uri": "https://localhost:8080/"
        },
        "id": "KitOLOjBkTmb",
        "outputId": "4f83bfb9-2f8d-4425-8417-3c3a042eff84"
      },
      "execution_count": null,
      "outputs": [
        {
          "output_type": "stream",
          "name": "stdout",
          "text": [
            "<bound method NDFrame.head of                       FAM174B   AVEN  VPS39   CHP1   KNL1  ATMIN  TMEM127  \\\n",
            "Sample_geo_accession                                                        \n",
            "GSM615096               0.855  0.583  0.732  0.149  0.842  0.562    0.610   \n",
            "GSM615097               0.814  0.599  0.687  0.473  0.992  0.600    0.534   \n",
            "GSM615098               0.226  0.820  0.711  0.663  0.547  0.591    0.116   \n",
            "GSM615099               0.377  0.736  0.654  0.306  0.307  0.593    0.652   \n",
            "GSM615100               0.609  0.732  0.683  0.562  0.659  0.653    0.648   \n",
            "...                       ...    ...    ...    ...    ...    ...      ...   \n",
            "GSM546433               0.410  0.627  0.854  0.377  0.779  0.666    0.701   \n",
            "GSM546434               0.558  0.660  0.947  0.391  0.292  0.559    0.962   \n",
            "GSM546435               0.829  0.662  0.872  0.753  0.592  0.733    0.887   \n",
            "GSM546436               0.790  0.437  0.838  0.684  0.617  0.728    0.840   \n",
            "GSM546437               0.169  0.872  0.847  0.542  1.065  0.152    0.797   \n",
            "\n",
            "                      MMP15  USP10  HSBP1  ...  ZNF780B  CDH13  CXCL8  \\\n",
            "Sample_geo_accession                       ...                          \n",
            "GSM615096             0.436  0.293  0.601  ...    0.532  0.452  0.256   \n",
            "GSM615097             0.000  0.135  0.524  ...    0.862  0.732  0.183   \n",
            "GSM615098             0.502  0.744  0.112  ...    0.820  0.507  0.213   \n",
            "GSM615099             0.220  0.771  0.602  ...    0.852  0.870  0.312   \n",
            "GSM615100             0.328  0.644  0.734  ...    0.484  0.942  0.270   \n",
            "...                     ...    ...    ...  ...      ...    ...    ...   \n",
            "GSM546433             0.183  0.704  0.535  ...    0.185  0.334  0.367   \n",
            "GSM546434             0.646  0.410  0.450  ...    0.164  0.125  0.451   \n",
            "GSM546435             0.418  0.261  0.438  ...    0.298  0.577  0.020   \n",
            "GSM546436             0.364  0.475  0.405  ...    0.314  0.270  0.025   \n",
            "GSM546437             0.268  0.735 -0.003  ...    0.643  0.140  0.009   \n",
            "\n",
            "                      SMARCA5  SHCBP1   TCHH  NDUFA4  PTPRK  HNRNPM  Response  \n",
            "Sample_geo_accession                                                           \n",
            "GSM615096               0.855   0.413  0.826   0.360  0.508   0.340       0.0  \n",
            "GSM615097               0.503   0.572  0.226   0.430  0.788   0.769       0.0  \n",
            "GSM615098               0.931   0.656  0.231   0.094  0.826   0.394       0.0  \n",
            "GSM615099               0.929   0.920  0.739   0.797  1.000   0.681       1.0  \n",
            "GSM615100               0.817   0.631  0.752   0.513  0.514   0.668       0.0  \n",
            "...                       ...     ...    ...     ...    ...     ...       ...  \n",
            "GSM546433               0.782   0.789  0.028   0.952  0.754   0.174       0.0  \n",
            "GSM546434               0.679   0.619  0.259   0.862  0.833   0.000       0.0  \n",
            "GSM546435               0.947   0.651  0.508   0.553  0.230   0.231       0.0  \n",
            "GSM546436               1.025   0.799  0.416   0.496  0.060   0.385       0.0  \n",
            "GSM546437               0.733   0.944  0.463   0.874  0.786   0.161       1.0  \n",
            "\n",
            "[2551 rows x 9185 columns]>\n"
          ]
        }
      ]
    },
    {
      "cell_type": "code",
      "source": [
        "df_indexed.to_csv(\"data_GSE205568.csv\", index=False)"
      ],
      "metadata": {
        "id": "pqapF8O7YUHD"
      },
      "execution_count": null,
      "outputs": []
    }
  ]
}